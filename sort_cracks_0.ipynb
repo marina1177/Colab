{
  "nbformat": 4,
  "nbformat_minor": 0,
  "metadata": {
    "colab": {
      "name": "Untitled1.ipynb",
      "provenance": [],
      "collapsed_sections": [],
      "authorship_tag": "ABX9TyMC4jj/Z7vsp1vhRy1WgqSa",
      "include_colab_link": true
    },
    "kernelspec": {
      "name": "python3",
      "display_name": "Python 3"
    }
  },
  "cells": [
    {
      "cell_type": "markdown",
      "metadata": {
        "id": "view-in-github",
        "colab_type": "text"
      },
      "source": [
        "<a href=\"https://colab.research.google.com/github/marina1177/Colab/blob/master/sort_cracks_0.ipynb\" target=\"_parent\"><img src=\"https://colab.research.google.com/assets/colab-badge.svg\" alt=\"Open In Colab\"/></a>"
      ]
    },
    {
      "cell_type": "code",
      "metadata": {
        "colab_type": "code",
        "id": "rhDHUFsSIqyI",
        "outputId": "e8a9d056-5d33-4886-cd62-fa4a8076d32d",
        "colab": {
          "base_uri": "https://localhost:8080/",
          "height": 67
        }
      },
      "source": [
        "!pip install xlutils"
      ],
      "execution_count": 0,
      "outputs": [
        {
          "output_type": "stream",
          "text": [
            "Requirement already satisfied: xlutils in /usr/local/lib/python3.6/dist-packages (2.0.0)\n",
            "Requirement already satisfied: xlrd>=0.7.2 in /usr/local/lib/python3.6/dist-packages (from xlutils) (1.1.0)\n",
            "Requirement already satisfied: xlwt>=0.7.4 in /usr/local/lib/python3.6/dist-packages (from xlutils) (1.3.0)\n"
          ],
          "name": "stdout"
        }
      ]
    },
    {
      "cell_type": "code",
      "metadata": {
        "id": "tW0jkQ82_is4",
        "colab_type": "code",
        "outputId": "8f900a75-bd0c-4751-8749-f79994a99ee3",
        "colab": {
          "base_uri": "https://localhost:8080/",
          "height": 118
        }
      },
      "source": [
        "\n",
        "import numpy as np\n",
        "import pandas as pd\n",
        "import plotly as pl\n",
        "import matplotlib as mp\n",
        "import math\n",
        "import xlrd\n",
        "from xlutils.copy import copy\n",
        "#import xlsxwriter\n",
        "\n",
        "from google.colab import files\n",
        "\n",
        "#uploaded = files.upload()\n",
        "\n",
        "#for fn in uploaded.keys():\n",
        "#  print('User uploaded file \"{name}\" with length {length} bytes'.format(\n",
        "#     name=fn, length=len(uploaded[fn])))\n",
        "  \n",
        "wb = xlrd.open_workbook('L_rect_5_0.2_100deep.xlsx')\n",
        "sheet = wb.sheet_by_index(0)\n",
        "\n",
        "data = [sheet.row_values(i) for i in range(sheet.nrows)]\n",
        "data = data[0:]\n",
        "#data.sort(key= lambda x: x[target_column])\n",
        "\n",
        "print(labels)\n",
        "\n",
        "for rownum in range(sheet.nrows):\n",
        "  row = sheet.row_values(rownum)\n",
        "for c_el in row:\n",
        "   print (c_el)\n",
        "  \n",
        "  \n",
        "\n",
        "#files.download(<имя вашего файла, лежащего в Colab>)"
      ],
      "execution_count": 0,
      "outputs": [
        {
          "output_type": "stream",
          "text": [
            "[-0.006, 25.0, -0.00048667401877366956, 0.010256548761333306, 0.010268088629056388]\n",
            "0.006\n",
            "200.0\n",
            "0.15497701100909467\n",
            "0.0005526033076534986\n",
            "0.15497799621794275\n"
          ],
          "name": "stdout"
        }
      ]
    },
    {
      "cell_type": "code",
      "metadata": {
        "id": "skzIcGfSH9q4",
        "colab_type": "code",
        "colab": {}
      },
      "source": [
        ""
      ],
      "execution_count": 0,
      "outputs": []
    },
    {
      "cell_type": "code",
      "metadata": {
        "colab_type": "code",
        "id": "GQ18Kd5F3uKe",
        "colab": {}
      },
      "source": [
        "!pip install -q matplotlib-venn\n"
      ],
      "execution_count": 0,
      "outputs": []
    },
    {
      "cell_type": "code",
      "metadata": {
        "colab_type": "code",
        "id": "rDvcKto9ICBJ",
        "colab": {}
      },
      "source": [
        "!pip install -q xlutils"
      ],
      "execution_count": 0,
      "outputs": []
    }
  ]
}